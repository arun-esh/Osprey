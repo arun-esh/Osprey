{
 "cells": [
  {
   "cell_type": "code",
   "execution_count": 1,
   "metadata": {},
   "outputs": [
    {
     "name": "stdout",
     "output_type": "stream",
     "text": [
      "c:\\Hamed\\online_predatory_conversation_detection\n"
     ]
    }
   ],
   "source": [
    "%cd ../.."
   ]
  },
  {
   "cell_type": "code",
   "execution_count": 4,
   "metadata": {},
   "outputs": [],
   "source": [
    "import pandas as pd\n"
   ]
  },
  {
   "cell_type": "code",
   "execution_count": 76,
   "metadata": {},
   "outputs": [],
   "source": [
    "def number_of_unique_predators(dataset):\n",
    "    return set(dataset[dataset[\"tagged_predator\"] == 1.0][\"author_id\"])\n"
   ]
  },
  {
   "cell_type": "code",
   "execution_count": 47,
   "metadata": {},
   "outputs": [
    {
     "data": {
      "text/plain": [
       "Index(['Unnamed: 0', 'conv_id', 'msg_line', 'author_id', 'time',\n",
       "       'msg_char_count', 'msg_word_count', 'conv_size', 'nauthor', 'text',\n",
       "       'tagged_predator', 'predatory_conv'],\n",
       "      dtype='object')"
      ]
     },
     "execution_count": 47,
     "metadata": {},
     "output_type": "execute_result"
    }
   ],
   "source": [
    "path = \"data/dataset-v2/train.csv\"\n",
    "df = pd.read_csv(path, encoding=\"utf-8\", delimiter=\",\")\n",
    "df.columns"
   ]
  },
  {
   "cell_type": "code",
   "execution_count": 9,
   "metadata": {},
   "outputs": [],
   "source": [
    "path = \"data/dataset-v2/conversation/train-v2.csv\"\n",
    "df = pd.read_csv(path, encoding=\"utf-8\", delimiter=\",\")"
   ]
  },
  {
   "cell_type": "code",
   "execution_count": 58,
   "metadata": {},
   "outputs": [],
   "source": [
    "groups = df.groupby(\"conv_id\")"
   ]
  },
  {
   "cell_type": "code",
   "execution_count": 59,
   "metadata": {},
   "outputs": [],
   "source": [
    "# len(df[df[\"predatory_conv\"] == 1.0])\n",
    "lengths = groups.apply(lambda g: g.shape[0])"
   ]
  },
  {
   "cell_type": "code",
   "execution_count": 64,
   "metadata": {},
   "outputs": [
    {
     "data": {
      "text/plain": [
       "'b,a'"
      ]
     },
     "execution_count": 64,
     "metadata": {},
     "output_type": "execute_result"
    }
   ],
   "source": [
    "\",\".join({\"a\",\"b\"})"
   ]
  },
  {
   "cell_type": "code",
   "execution_count": 98,
   "metadata": {},
   "outputs": [
    {
     "name": "stdout",
     "output_type": "stream",
     "text": [
      "shit\n"
     ]
    }
   ],
   "source": [
    "THRESHOLD = 6\n",
    "filtered_df = None\n",
    "f_groups = []\n",
    "n_f_groups = []\n",
    "s= 0\n",
    "for name, group in groups:\n",
    "    # if predatory_conv == 1.0:\n",
    "    if group.shape[0] < THRESHOLD:\n",
    "        n_f_groups.append(group)\n",
    "        continue\n",
    "    \n",
    "    group[\"messages_count\"] = group.shape[0]\n",
    "    f_groups.append(group)\n",
    "\n",
    "\n",
    "print(\"shit\")\n",
    "filtered_df = pd.concat(f_groups)\n",
    "n_filtered_df = pd.concat(n_f_groups)"
   ]
  },
  {
   "cell_type": "code",
   "execution_count": 99,
   "metadata": {},
   "outputs": [
    {
     "data": {
      "text/plain": [
       "(137, 142)"
      ]
     },
     "execution_count": 99,
     "metadata": {},
     "output_type": "execute_result"
    }
   ],
   "source": [
    "sf = number_of_unique_predators(filtered_df)\n",
    "sr = number_of_unique_predators(df)\n",
    "\"\"\"\n",
    "(137, 142) 6\n",
    "(137, 142) 5\n",
    "(138, 142) 4\n",
    "(138, 142) 3\n",
    "(141, 142) 2\n",
    "\"\"\"\n",
    "len(sf), len(sr)"
   ]
  },
  {
   "cell_type": "code",
   "execution_count": 112,
   "metadata": {},
   "outputs": [
    {
     "data": {
      "text/html": [
       "<div>\n",
       "<style scoped>\n",
       "    .dataframe tbody tr th:only-of-type {\n",
       "        vertical-align: middle;\n",
       "    }\n",
       "\n",
       "    .dataframe tbody tr th {\n",
       "        vertical-align: top;\n",
       "    }\n",
       "\n",
       "    .dataframe thead th {\n",
       "        text-align: right;\n",
       "    }\n",
       "</style>\n",
       "<table border=\"1\" class=\"dataframe\">\n",
       "  <thead>\n",
       "    <tr style=\"text-align: right;\">\n",
       "      <th></th>\n",
       "      <th>Unnamed: 0</th>\n",
       "      <th>conv_id</th>\n",
       "      <th>msg_line</th>\n",
       "      <th>author_id</th>\n",
       "      <th>time</th>\n",
       "      <th>msg_char_count</th>\n",
       "      <th>msg_word_count</th>\n",
       "      <th>conv_size</th>\n",
       "      <th>nauthor</th>\n",
       "      <th>text</th>\n",
       "      <th>tagged_predator</th>\n",
       "      <th>predatory_conv</th>\n",
       "    </tr>\n",
       "  </thead>\n",
       "  <tbody>\n",
       "    <tr>\n",
       "      <th>66482</th>\n",
       "      <td>66482</td>\n",
       "      <td>20701ca1ef28d73cc0325551950086f6</td>\n",
       "      <td>1</td>\n",
       "      <td>e67a150cbffcef5310a8c38f73281526</td>\n",
       "      <td>15.01</td>\n",
       "      <td>33</td>\n",
       "      <td>8</td>\n",
       "      <td>1</td>\n",
       "      <td>1</td>\n",
       "      <td>hey are you going to be on today.</td>\n",
       "      <td>1.0</td>\n",
       "      <td>1.0</td>\n",
       "    </tr>\n",
       "    <tr>\n",
       "      <th>270936</th>\n",
       "      <td>270936</td>\n",
       "      <td>07e29ca23fc97cd107e16048905534ea</td>\n",
       "      <td>1</td>\n",
       "      <td>e67a150cbffcef5310a8c38f73281526</td>\n",
       "      <td>17.09</td>\n",
       "      <td>28</td>\n",
       "      <td>6</td>\n",
       "      <td>2</td>\n",
       "      <td>1</td>\n",
       "      <td>HEY DON'T WANNA TALK NO MORE</td>\n",
       "      <td>1.0</td>\n",
       "      <td>1.0</td>\n",
       "    </tr>\n",
       "    <tr>\n",
       "      <th>270937</th>\n",
       "      <td>270937</td>\n",
       "      <td>07e29ca23fc97cd107e16048905534ea</td>\n",
       "      <td>2</td>\n",
       "      <td>e67a150cbffcef5310a8c38f73281526</td>\n",
       "      <td>17.09</td>\n",
       "      <td>14</td>\n",
       "      <td>3</td>\n",
       "      <td>2</td>\n",
       "      <td>1</td>\n",
       "      <td>WHATS GOING ON</td>\n",
       "      <td>1.0</td>\n",
       "      <td>1.0</td>\n",
       "    </tr>\n",
       "    <tr>\n",
       "      <th>306061</th>\n",
       "      <td>306061</td>\n",
       "      <td>5ff107667e11dc8cdff388d6ffa9fbb0</td>\n",
       "      <td>1</td>\n",
       "      <td>e67a150cbffcef5310a8c38f73281526</td>\n",
       "      <td>19.02</td>\n",
       "      <td>21</td>\n",
       "      <td>5</td>\n",
       "      <td>1</td>\n",
       "      <td>1</td>\n",
       "      <td>HEY HOW ARE YOU DOING</td>\n",
       "      <td>1.0</td>\n",
       "      <td>1.0</td>\n",
       "    </tr>\n",
       "    <tr>\n",
       "      <th>306422</th>\n",
       "      <td>306422</td>\n",
       "      <td>b84043c07553ab86bf5983de5f23bf37</td>\n",
       "      <td>1</td>\n",
       "      <td>e67a150cbffcef5310a8c38f73281526</td>\n",
       "      <td>14.05</td>\n",
       "      <td>52</td>\n",
       "      <td>10</td>\n",
       "      <td>1</td>\n",
       "      <td>1</td>\n",
       "      <td>hey how are you doing is everthing fine, reply...</td>\n",
       "      <td>1.0</td>\n",
       "      <td>1.0</td>\n",
       "    </tr>\n",
       "    <tr>\n",
       "      <th>387211</th>\n",
       "      <td>387211</td>\n",
       "      <td>6ff7ac15c0328f0df4611fd5eb62aca0</td>\n",
       "      <td>1</td>\n",
       "      <td>e67a150cbffcef5310a8c38f73281526</td>\n",
       "      <td>15.29</td>\n",
       "      <td>207</td>\n",
       "      <td>46</td>\n",
       "      <td>1</td>\n",
       "      <td>1</td>\n",
       "      <td>are you ok, what did you do. I was there drivi...</td>\n",
       "      <td>1.0</td>\n",
       "      <td>1.0</td>\n",
       "    </tr>\n",
       "    <tr>\n",
       "      <th>388910</th>\n",
       "      <td>388910</td>\n",
       "      <td>0d7217294eafb23de4e97f67a5537158</td>\n",
       "      <td>1</td>\n",
       "      <td>e67a150cbffcef5310a8c38f73281526</td>\n",
       "      <td>11.48</td>\n",
       "      <td>13</td>\n",
       "      <td>3</td>\n",
       "      <td>1</td>\n",
       "      <td>1</td>\n",
       "      <td>hey you there</td>\n",
       "      <td>1.0</td>\n",
       "      <td>1.0</td>\n",
       "    </tr>\n",
       "    <tr>\n",
       "      <th>522647</th>\n",
       "      <td>522647</td>\n",
       "      <td>5e1e6c60303d46d06b285cdef2639646</td>\n",
       "      <td>1</td>\n",
       "      <td>e67a150cbffcef5310a8c38f73281526</td>\n",
       "      <td>9.59</td>\n",
       "      <td>35</td>\n",
       "      <td>8</td>\n",
       "      <td>1</td>\n",
       "      <td>1</td>\n",
       "      <td>hey where were you u didn't call me</td>\n",
       "      <td>1.0</td>\n",
       "      <td>1.0</td>\n",
       "    </tr>\n",
       "    <tr>\n",
       "      <th>677922</th>\n",
       "      <td>677922</td>\n",
       "      <td>5c6ce5446bd7f03a95268d1a59d1ebbd</td>\n",
       "      <td>1</td>\n",
       "      <td>e67a150cbffcef5310a8c38f73281526</td>\n",
       "      <td>15.39</td>\n",
       "      <td>13</td>\n",
       "      <td>3</td>\n",
       "      <td>2</td>\n",
       "      <td>1</td>\n",
       "      <td>yeah I'm here</td>\n",
       "      <td>1.0</td>\n",
       "      <td>1.0</td>\n",
       "    </tr>\n",
       "    <tr>\n",
       "      <th>677923</th>\n",
       "      <td>677923</td>\n",
       "      <td>5c6ce5446bd7f03a95268d1a59d1ebbd</td>\n",
       "      <td>2</td>\n",
       "      <td>e67a150cbffcef5310a8c38f73281526</td>\n",
       "      <td>15.40</td>\n",
       "      <td>42</td>\n",
       "      <td>8</td>\n",
       "      <td>2</td>\n",
       "      <td>1</td>\n",
       "      <td>how have you been doing. is everything ok.</td>\n",
       "      <td>1.0</td>\n",
       "      <td>1.0</td>\n",
       "    </tr>\n",
       "    <tr>\n",
       "      <th>741555</th>\n",
       "      <td>741555</td>\n",
       "      <td>eb4594be4c33247fb77ccae3fb05c82f</td>\n",
       "      <td>1</td>\n",
       "      <td>e67a150cbffcef5310a8c38f73281526</td>\n",
       "      <td>19.15</td>\n",
       "      <td>16</td>\n",
       "      <td>5</td>\n",
       "      <td>1</td>\n",
       "      <td>1</td>\n",
       "      <td>hey liz are u ok</td>\n",
       "      <td>1.0</td>\n",
       "      <td>1.0</td>\n",
       "    </tr>\n",
       "  </tbody>\n",
       "</table>\n",
       "</div>"
      ],
      "text/plain": [
       "        Unnamed: 0                           conv_id  msg_line   \n",
       "66482        66482  20701ca1ef28d73cc0325551950086f6         1  \\\n",
       "270936      270936  07e29ca23fc97cd107e16048905534ea         1   \n",
       "270937      270937  07e29ca23fc97cd107e16048905534ea         2   \n",
       "306061      306061  5ff107667e11dc8cdff388d6ffa9fbb0         1   \n",
       "306422      306422  b84043c07553ab86bf5983de5f23bf37         1   \n",
       "387211      387211  6ff7ac15c0328f0df4611fd5eb62aca0         1   \n",
       "388910      388910  0d7217294eafb23de4e97f67a5537158         1   \n",
       "522647      522647  5e1e6c60303d46d06b285cdef2639646         1   \n",
       "677922      677922  5c6ce5446bd7f03a95268d1a59d1ebbd         1   \n",
       "677923      677923  5c6ce5446bd7f03a95268d1a59d1ebbd         2   \n",
       "741555      741555  eb4594be4c33247fb77ccae3fb05c82f         1   \n",
       "\n",
       "                               author_id   time  msg_char_count   \n",
       "66482   e67a150cbffcef5310a8c38f73281526  15.01              33  \\\n",
       "270936  e67a150cbffcef5310a8c38f73281526  17.09              28   \n",
       "270937  e67a150cbffcef5310a8c38f73281526  17.09              14   \n",
       "306061  e67a150cbffcef5310a8c38f73281526  19.02              21   \n",
       "306422  e67a150cbffcef5310a8c38f73281526  14.05              52   \n",
       "387211  e67a150cbffcef5310a8c38f73281526  15.29             207   \n",
       "388910  e67a150cbffcef5310a8c38f73281526  11.48              13   \n",
       "522647  e67a150cbffcef5310a8c38f73281526   9.59              35   \n",
       "677922  e67a150cbffcef5310a8c38f73281526  15.39              13   \n",
       "677923  e67a150cbffcef5310a8c38f73281526  15.40              42   \n",
       "741555  e67a150cbffcef5310a8c38f73281526  19.15              16   \n",
       "\n",
       "        msg_word_count  conv_size  nauthor   \n",
       "66482                8          1        1  \\\n",
       "270936               6          2        1   \n",
       "270937               3          2        1   \n",
       "306061               5          1        1   \n",
       "306422              10          1        1   \n",
       "387211              46          1        1   \n",
       "388910               3          1        1   \n",
       "522647               8          1        1   \n",
       "677922               3          2        1   \n",
       "677923               8          2        1   \n",
       "741555               5          1        1   \n",
       "\n",
       "                                                     text  tagged_predator   \n",
       "66482                   hey are you going to be on today.              1.0  \\\n",
       "270936                       HEY DON'T WANNA TALK NO MORE              1.0   \n",
       "270937                                     WHATS GOING ON              1.0   \n",
       "306061                              HEY HOW ARE YOU DOING              1.0   \n",
       "306422  hey how are you doing is everthing fine, reply...              1.0   \n",
       "387211  are you ok, what did you do. I was there drivi...              1.0   \n",
       "388910                                      hey you there              1.0   \n",
       "522647                hey where were you u didn't call me              1.0   \n",
       "677922                                      yeah I'm here              1.0   \n",
       "677923         how have you been doing. is everything ok.              1.0   \n",
       "741555                                   hey liz are u ok              1.0   \n",
       "\n",
       "        predatory_conv  \n",
       "66482              1.0  \n",
       "270936             1.0  \n",
       "270937             1.0  \n",
       "306061             1.0  \n",
       "306422             1.0  \n",
       "387211             1.0  \n",
       "388910             1.0  \n",
       "522647             1.0  \n",
       "677922             1.0  \n",
       "677923             1.0  \n",
       "741555             1.0  "
      ]
     },
     "execution_count": 112,
     "metadata": {},
     "output_type": "execute_result"
    }
   ],
   "source": [
    "# sixs = sf\n",
    "# twos - sixs\n",
    "# f = open(\"temp.csv\", \"wb\")\n",
    "# n_filtered_df[n_filtered_df[\"predatory_conv\"] == 1.0][[\"conv_id\", \"msg_line\", \"author_id\", \"text\"]].to_csv(f)\n",
    "# f.close()\n",
    "\n",
    "omg = {\n",
    "    '04d42f7bb1eb41605dea74a8711f9fd0',\n",
    "    '4c33926fc6765490b09943d81ec86469',\n",
    "    '902cddc2765a0700c9d1d543c9a4d52f',\n",
    "    'e67a150cbffcef5310a8c38f73281526'\n",
    "}\n",
    "\n",
    "df[df[\"author_id\"] == \"e67a150cbffcef5310a8c38f73281526\"]\n"
   ]
  },
  {
   "cell_type": "code",
   "execution_count": 44,
   "metadata": {},
   "outputs": [],
   "source": [
    "ts = []\n",
    "for name, group in groups:\n",
    "    ts.append((name, group.shape[0]))"
   ]
  },
  {
   "cell_type": "code",
   "execution_count": 45,
   "metadata": {},
   "outputs": [
    {
     "data": {
      "text/plain": [
       "2016"
      ]
     },
     "execution_count": 45,
     "metadata": {},
     "output_type": "execute_result"
    }
   ],
   "source": []
  }
 ],
 "metadata": {
  "kernelspec": {
   "display_name": "osprey-cuda",
   "language": "python",
   "name": "python3"
  },
  "language_info": {
   "codemirror_mode": {
    "name": "ipython",
    "version": 3
   },
   "file_extension": ".py",
   "mimetype": "text/x-python",
   "name": "python",
   "nbconvert_exporter": "python",
   "pygments_lexer": "ipython3",
   "version": "3.9.16"
  },
  "orig_nbformat": 4
 },
 "nbformat": 4,
 "nbformat_minor": 2
}
