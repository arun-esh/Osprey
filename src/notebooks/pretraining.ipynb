{
 "cells": [
  {
   "cell_type": "code",
   "execution_count": 1,
   "metadata": {},
   "outputs": [
    {
     "name": "stdout",
     "output_type": "stream",
     "text": [
      "/home/hamed/code/Osprey\n"
     ]
    },
    {
     "data": {
      "text/plain": [
       "'/home/hamed/code/Osprey'"
      ]
     },
     "execution_count": 1,
     "metadata": {},
     "output_type": "execute_result"
    }
   ],
   "source": [
    "%cd ../../\n",
    "%pwd"
   ]
  },
  {
   "cell_type": "code",
   "execution_count": 2,
   "metadata": {},
   "outputs": [
    {
     "name": "stderr",
     "output_type": "stream",
     "text": [
      "/home/hamed/mambaforge/envs/osprey-cuda/lib/python3.9/site-packages/tqdm/auto.py:21: TqdmWarning: IProgress not found. Please update jupyter and ipywidgets. See https://ipywidgets.readthedocs.io/en/stable/user_install.html\n",
      "  from .autonotebook import tqdm as notebook_tqdm\n"
     ]
    }
   ],
   "source": [
    "import torch\n",
    "import pandas as pd\n",
    "\n",
    "from transformers import AutoTokenizer, BertTokenizer, \\\n",
    "    DataCollatorForLanguageModeling, AutoModelForMaskedLM, \\\n",
    "    TrainingArguments, Trainer\n",
    "\n",
    "from torch.utils.data import DataLoader\n",
    "from sentence_transformers import SentenceTransformer"
   ]
  },
  {
   "cell_type": "code",
   "execution_count": 3,
   "metadata": {},
   "outputs": [],
   "source": [
    "model_name = \"distilroberta-base\""
   ]
  },
  {
   "cell_type": "code",
   "execution_count": 4,
   "metadata": {},
   "outputs": [
    {
     "data": {
      "text/html": [
       "<div>\n",
       "<style scoped>\n",
       "    .dataframe tbody tr th:only-of-type {\n",
       "        vertical-align: middle;\n",
       "    }\n",
       "\n",
       "    .dataframe tbody tr th {\n",
       "        vertical-align: top;\n",
       "    }\n",
       "\n",
       "    .dataframe thead th {\n",
       "        text-align: right;\n",
       "    }\n",
       "</style>\n",
       "<table border=\"1\" class=\"dataframe\">\n",
       "  <thead>\n",
       "    <tr style=\"text-align: right;\">\n",
       "      <th></th>\n",
       "      <th>Unnamed: 0</th>\n",
       "      <th>conv_id</th>\n",
       "      <th>msg_line</th>\n",
       "      <th>author_id</th>\n",
       "      <th>time</th>\n",
       "      <th>msg_char_count</th>\n",
       "      <th>msg_word_count</th>\n",
       "      <th>conv_size</th>\n",
       "      <th>nauthor</th>\n",
       "      <th>text</th>\n",
       "      <th>tagged_predator</th>\n",
       "      <th>predatory_conv</th>\n",
       "    </tr>\n",
       "  </thead>\n",
       "  <tbody>\n",
       "    <tr>\n",
       "      <th>0</th>\n",
       "      <td>0</td>\n",
       "      <td>e621da5de598c9321a1d505ea95e6a2d</td>\n",
       "      <td>1</td>\n",
       "      <td>97964e7a9e8eb9cf78f2e4d7b2ff34c7</td>\n",
       "      <td>3.2</td>\n",
       "      <td>5</td>\n",
       "      <td>1</td>\n",
       "      <td>62</td>\n",
       "      <td>2</td>\n",
       "      <td>Hola.</td>\n",
       "      <td>0.0</td>\n",
       "      <td>0.0</td>\n",
       "    </tr>\n",
       "    <tr>\n",
       "      <th>1</th>\n",
       "      <td>1</td>\n",
       "      <td>e621da5de598c9321a1d505ea95e6a2d</td>\n",
       "      <td>2</td>\n",
       "      <td>0158d0d6781fc4d493f243d4caa49747</td>\n",
       "      <td>3.2</td>\n",
       "      <td>3</td>\n",
       "      <td>1</td>\n",
       "      <td>62</td>\n",
       "      <td>2</td>\n",
       "      <td>hi.</td>\n",
       "      <td>0.0</td>\n",
       "      <td>0.0</td>\n",
       "    </tr>\n",
       "    <tr>\n",
       "      <th>2</th>\n",
       "      <td>2</td>\n",
       "      <td>e621da5de598c9321a1d505ea95e6a2d</td>\n",
       "      <td>3</td>\n",
       "      <td>0158d0d6781fc4d493f243d4caa49747</td>\n",
       "      <td>3.2</td>\n",
       "      <td>9</td>\n",
       "      <td>2</td>\n",
       "      <td>62</td>\n",
       "      <td>2</td>\n",
       "      <td>whats up?</td>\n",
       "      <td>0.0</td>\n",
       "      <td>0.0</td>\n",
       "    </tr>\n",
       "    <tr>\n",
       "      <th>3</th>\n",
       "      <td>3</td>\n",
       "      <td>e621da5de598c9321a1d505ea95e6a2d</td>\n",
       "      <td>4</td>\n",
       "      <td>97964e7a9e8eb9cf78f2e4d7b2ff34c7</td>\n",
       "      <td>3.2</td>\n",
       "      <td>10</td>\n",
       "      <td>3</td>\n",
       "      <td>62</td>\n",
       "      <td>2</td>\n",
       "      <td>not a ton.</td>\n",
       "      <td>0.0</td>\n",
       "      <td>0.0</td>\n",
       "    </tr>\n",
       "    <tr>\n",
       "      <th>4</th>\n",
       "      <td>4</td>\n",
       "      <td>e621da5de598c9321a1d505ea95e6a2d</td>\n",
       "      <td>5</td>\n",
       "      <td>97964e7a9e8eb9cf78f2e4d7b2ff34c7</td>\n",
       "      <td>3.2</td>\n",
       "      <td>4</td>\n",
       "      <td>1</td>\n",
       "      <td>62</td>\n",
       "      <td>2</td>\n",
       "      <td>you?</td>\n",
       "      <td>0.0</td>\n",
       "      <td>0.0</td>\n",
       "    </tr>\n",
       "  </tbody>\n",
       "</table>\n",
       "</div>"
      ],
      "text/plain": [
       "   Unnamed: 0                           conv_id  msg_line  \\\n",
       "0           0  e621da5de598c9321a1d505ea95e6a2d         1   \n",
       "1           1  e621da5de598c9321a1d505ea95e6a2d         2   \n",
       "2           2  e621da5de598c9321a1d505ea95e6a2d         3   \n",
       "3           3  e621da5de598c9321a1d505ea95e6a2d         4   \n",
       "4           4  e621da5de598c9321a1d505ea95e6a2d         5   \n",
       "\n",
       "                          author_id  time  msg_char_count  msg_word_count  \\\n",
       "0  97964e7a9e8eb9cf78f2e4d7b2ff34c7   3.2               5               1   \n",
       "1  0158d0d6781fc4d493f243d4caa49747   3.2               3               1   \n",
       "2  0158d0d6781fc4d493f243d4caa49747   3.2               9               2   \n",
       "3  97964e7a9e8eb9cf78f2e4d7b2ff34c7   3.2              10               3   \n",
       "4  97964e7a9e8eb9cf78f2e4d7b2ff34c7   3.2               4               1   \n",
       "\n",
       "   conv_size  nauthor        text  tagged_predator  predatory_conv  \n",
       "0         62        2       Hola.              0.0             0.0  \n",
       "1         62        2         hi.              0.0             0.0  \n",
       "2         62        2   whats up?              0.0             0.0  \n",
       "3         62        2  not a ton.              0.0             0.0  \n",
       "4         62        2        you?              0.0             0.0  "
      ]
     },
     "execution_count": 4,
     "metadata": {},
     "output_type": "execute_result"
    }
   ],
   "source": [
    "dataset_path = \"data/dataset-v2/train.csv\"\n",
    "df = pd.read_csv(dataset_path)\n",
    "df[\"text\"].fillna(\"\", inplace=True)\n",
    "\n",
    "df.head()"
   ]
  },
  {
   "cell_type": "code",
   "execution_count": 5,
   "metadata": {},
   "outputs": [
    {
     "name": "stderr",
     "output_type": "stream",
     "text": [
      "Token indices sequence length is longer than the specified maximum sequence length for this model (1472 > 512). Running this sequence through the model will result in indexing errors\n"
     ]
    }
   ],
   "source": [
    "tokenizer = AutoTokenizer.from_pretrained(model_name)\n",
    "train_set = [tokenizer(txt) for txt in df[\"text\"].to_list()]"
   ]
  },
  {
   "cell_type": "code",
   "execution_count": 6,
   "metadata": {},
   "outputs": [],
   "source": [
    "# texts[0]\n",
    "tokenizer.pad_token = tokenizer.eos_token\n",
    "data_collator = DataCollatorForLanguageModeling(tokenizer=tokenizer, mlm_probability=0.15)"
   ]
  },
  {
   "cell_type": "code",
   "execution_count": 7,
   "metadata": {},
   "outputs": [
    {
     "name": "stderr",
     "output_type": "stream",
     "text": [
      "Some weights of the model checkpoint at distilroberta-base were not used when initializing RobertaForMaskedLM: ['roberta.pooler.dense.bias', 'roberta.pooler.dense.weight']\n",
      "- This IS expected if you are initializing RobertaForMaskedLM from the checkpoint of a model trained on another task or with another architecture (e.g. initializing a BertForSequenceClassification model from a BertForPreTraining model).\n",
      "- This IS NOT expected if you are initializing RobertaForMaskedLM from the checkpoint of a model that you expect to be exactly identical (initializing a BertForSequenceClassification model from a BertForSequenceClassification model).\n"
     ]
    }
   ],
   "source": [
    "model = AutoModelForMaskedLM.from_pretrained(model_name)"
   ]
  },
  {
   "cell_type": "code",
   "execution_count": 9,
   "metadata": {},
   "outputs": [],
   "source": [
    "training_args = TrainingArguments(\n",
    "    output_dir=\"output-pretraining\",\n",
    "    evaluation_strategy=\"epoch\",\n",
    "    learning_rate=2e-5,\n",
    "    num_train_epochs=3,\n",
    "    weight_decay=0.01,\n",
    "    push_to_hub=False,\n",
    ")\n",
    "\n",
    "trainer = Trainer(\n",
    "    model=model,\n",
    "    args=training_args,\n",
    "    train_dataset=texts,\n",
    "    # eval_dataset=lm_dataset[\"test\"],\n",
    "    data_collator=data_collator,\n",
    ")"
   ]
  },
  {
   "cell_type": "code",
   "execution_count": 12,
   "metadata": {},
   "outputs": [],
   "source": [
    "trainer.train()"
   ]
  }
 ],
 "metadata": {
  "kernelspec": {
   "display_name": "osprey-cuda",
   "language": "python",
   "name": "python3"
  },
  "language_info": {
   "codemirror_mode": {
    "name": "ipython",
    "version": 3
   },
   "file_extension": ".py",
   "mimetype": "text/x-python",
   "name": "python",
   "nbconvert_exporter": "python",
   "pygments_lexer": "ipython3",
   "version": "3.9.17"
  },
  "orig_nbformat": 4
 },
 "nbformat": 4,
 "nbformat_minor": 2
}
