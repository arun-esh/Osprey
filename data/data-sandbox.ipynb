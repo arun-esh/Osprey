{
 "cells": [
  {
   "cell_type": "code",
   "execution_count": 1,
   "metadata": {},
   "outputs": [],
   "source": [
    "import pandas as pd"
   ]
  },
  {
   "cell_type": "markdown",
   "metadata": {},
   "source": [
    "## splitting data to train & test, as PAN2012"
   ]
  },
  {
   "cell_type": "code",
   "execution_count": 2,
   "metadata": {},
   "outputs": [
    {
     "name": "stdout",
     "output_type": "stream",
     "text": [
      "length of train 903607\n",
      "length of test 2058781\n"
     ]
    }
   ],
   "source": [
    "df_train = pd.read_csv('./train.csv')\n",
    "print(\"length of train\", len(df_train)) # = number of messages\n",
    "\n",
    "df_test = pd.read_csv('test.csv')\n",
    "print(\"length of test\", len(df_test)) # = number of messages\n",
    "\n",
    "# train 30% !\n",
    "# Test 70% !"
   ]
  },
  {
   "cell_type": "code",
   "execution_count": 3,
   "metadata": {},
   "outputs": [
    {
     "data": {
      "text/plain": "Index(['Unnamed: 0', 'conv_id', 'msg_line', 'author_id', 'time',\n       'msg_char_count', 'msg_word_count', 'conv_size', 'nauthor', 'text',\n       'tagged_msg', 'tagged_conv', 'tagged_predator'],\n      dtype='object')"
     },
     "execution_count": 3,
     "metadata": {},
     "output_type": "execute_result"
    }
   ],
   "source": [
    "df_train.columns"
   ]
  },
  {
   "cell_type": "markdown",
   "source": [
    "#### There are some conversation with one author!"
   ],
   "metadata": {
    "collapsed": false
   }
  },
  {
   "cell_type": "code",
   "execution_count": 4,
   "outputs": [
    {
     "name": "stdout",
     "output_type": "stream",
     "text": [
      "12773\n",
      "29561\n"
     ]
    }
   ],
   "source": [
    "print(len(df_train[df_train['nauthor'] == 1].groupby('conv_id')))\n",
    "print(len(df_test[df_test['nauthor'] == 1].groupby('conv_id')))"
   ],
   "metadata": {
    "collapsed": false
   }
  },
  {
   "cell_type": "code",
   "execution_count": 33,
   "outputs": [
    {
     "data": {
      "text/plain": "                                  conv_id  msg_line  \\\n62       1f1298186cac7c8e97ec901f30aa47f4         1   \n63       1f1298186cac7c8e97ec901f30aa47f4         2   \n64       1f1298186cac7c8e97ec901f30aa47f4         3   \n106      5fb22905eb7784e0f54167f83343e5e6         1   \n107      5fb22905eb7784e0f54167f83343e5e6         2   \n...                                   ...       ...   \n2058015  e869a74c255e810b04bb547c9767dd63         1   \n2058497  b0bfc92c31b6b3dac37e2ec6c4e17e51         1   \n2058690  0e3d6683515cdf8383587fa57d8780f7         1   \n2058691  0e3d6683515cdf8383587fa57d8780f7         2   \n2058692  0e3d6683515cdf8383587fa57d8780f7         3   \n\n                                author_id   time  msg_char_count  \\\n62       ba209a914b0d43e49df90df597464589  14.36               4   \n63       ba209a914b0d43e49df90df597464589  14.36               9   \n64       ba209a914b0d43e49df90df597464589  14.36               2   \n106      6f322d574618816aa2d6d1ceb4fd2551  14.49              30   \n107      6f322d574618816aa2d6d1ceb4fd2551  15.06              22   \n...                                   ...    ...             ...   \n2058015  a11aabeeceeae6b8cb5d12ea06b56554  16.01             152   \n2058497  34b0d246331696992e9ee7235f88ca66   4.32              28   \n2058690  b04c72cbf484c939a6ae0a872d8ffd9d   2.14              12   \n2058691  b04c72cbf484c939a6ae0a872d8ffd9d   2.14              20   \n2058692  b04c72cbf484c939a6ae0a872d8ffd9d   2.14               8   \n\n         msg_word_count  conv_size  nauthor  \\\n62                    1          3        1   \n63                    2          3        1   \n64                    1          3        1   \n106                   5          2        1   \n107                   4          2        1   \n...                 ...        ...      ...   \n2058015              27          1        1   \n2058497               4          1        1   \n2058690               3          3        1   \n2058691               3          3        1   \n2058692               2          3        1   \n\n                                                      text  tagged_msg  \\\n62                                                    asuu           0   \n63                                               lonte koe           0   \n64                                                      hi           0   \n106                         sets mode: +oo tantek ChanServ           0   \n107                                 sets mode: +o ChanServ           0   \n...                                                    ...         ...   \n2058015  Wow. Just had Android crash and lose all my te...           0   \n2058497                       really likes chromes updates           0   \n2058690                                       sup fat cunt           0   \n2058691                               pathetic pussy bitch           0   \n2058692                                           fuck you           0   \n\n         tagged_conv  tagged_predator  \n62                 0                0  \n63                 0                0  \n64                 0                0  \n106                0                0  \n107                0                0  \n...              ...              ...  \n2058015            0                0  \n2058497            0                0  \n2058690            0                0  \n2058691            0                0  \n2058692            0                0  \n\n[100908 rows x 12 columns]",
      "text/html": "<div>\n<style scoped>\n    .dataframe tbody tr th:only-of-type {\n        vertical-align: middle;\n    }\n\n    .dataframe tbody tr th {\n        vertical-align: top;\n    }\n\n    .dataframe thead th {\n        text-align: right;\n    }\n</style>\n<table border=\"1\" class=\"dataframe\">\n  <thead>\n    <tr style=\"text-align: right;\">\n      <th></th>\n      <th>conv_id</th>\n      <th>msg_line</th>\n      <th>author_id</th>\n      <th>time</th>\n      <th>msg_char_count</th>\n      <th>msg_word_count</th>\n      <th>conv_size</th>\n      <th>nauthor</th>\n      <th>text</th>\n      <th>tagged_msg</th>\n      <th>tagged_conv</th>\n      <th>tagged_predator</th>\n    </tr>\n  </thead>\n  <tbody>\n    <tr>\n      <th>62</th>\n      <td>1f1298186cac7c8e97ec901f30aa47f4</td>\n      <td>1</td>\n      <td>ba209a914b0d43e49df90df597464589</td>\n      <td>14.36</td>\n      <td>4</td>\n      <td>1</td>\n      <td>3</td>\n      <td>1</td>\n      <td>asuu</td>\n      <td>0</td>\n      <td>0</td>\n      <td>0</td>\n    </tr>\n    <tr>\n      <th>63</th>\n      <td>1f1298186cac7c8e97ec901f30aa47f4</td>\n      <td>2</td>\n      <td>ba209a914b0d43e49df90df597464589</td>\n      <td>14.36</td>\n      <td>9</td>\n      <td>2</td>\n      <td>3</td>\n      <td>1</td>\n      <td>lonte koe</td>\n      <td>0</td>\n      <td>0</td>\n      <td>0</td>\n    </tr>\n    <tr>\n      <th>64</th>\n      <td>1f1298186cac7c8e97ec901f30aa47f4</td>\n      <td>3</td>\n      <td>ba209a914b0d43e49df90df597464589</td>\n      <td>14.36</td>\n      <td>2</td>\n      <td>1</td>\n      <td>3</td>\n      <td>1</td>\n      <td>hi</td>\n      <td>0</td>\n      <td>0</td>\n      <td>0</td>\n    </tr>\n    <tr>\n      <th>106</th>\n      <td>5fb22905eb7784e0f54167f83343e5e6</td>\n      <td>1</td>\n      <td>6f322d574618816aa2d6d1ceb4fd2551</td>\n      <td>14.49</td>\n      <td>30</td>\n      <td>5</td>\n      <td>2</td>\n      <td>1</td>\n      <td>sets mode: +oo tantek ChanServ</td>\n      <td>0</td>\n      <td>0</td>\n      <td>0</td>\n    </tr>\n    <tr>\n      <th>107</th>\n      <td>5fb22905eb7784e0f54167f83343e5e6</td>\n      <td>2</td>\n      <td>6f322d574618816aa2d6d1ceb4fd2551</td>\n      <td>15.06</td>\n      <td>22</td>\n      <td>4</td>\n      <td>2</td>\n      <td>1</td>\n      <td>sets mode: +o ChanServ</td>\n      <td>0</td>\n      <td>0</td>\n      <td>0</td>\n    </tr>\n    <tr>\n      <th>...</th>\n      <td>...</td>\n      <td>...</td>\n      <td>...</td>\n      <td>...</td>\n      <td>...</td>\n      <td>...</td>\n      <td>...</td>\n      <td>...</td>\n      <td>...</td>\n      <td>...</td>\n      <td>...</td>\n      <td>...</td>\n    </tr>\n    <tr>\n      <th>2058015</th>\n      <td>e869a74c255e810b04bb547c9767dd63</td>\n      <td>1</td>\n      <td>a11aabeeceeae6b8cb5d12ea06b56554</td>\n      <td>16.01</td>\n      <td>152</td>\n      <td>27</td>\n      <td>1</td>\n      <td>1</td>\n      <td>Wow. Just had Android crash and lose all my te...</td>\n      <td>0</td>\n      <td>0</td>\n      <td>0</td>\n    </tr>\n    <tr>\n      <th>2058497</th>\n      <td>b0bfc92c31b6b3dac37e2ec6c4e17e51</td>\n      <td>1</td>\n      <td>34b0d246331696992e9ee7235f88ca66</td>\n      <td>4.32</td>\n      <td>28</td>\n      <td>4</td>\n      <td>1</td>\n      <td>1</td>\n      <td>really likes chromes updates</td>\n      <td>0</td>\n      <td>0</td>\n      <td>0</td>\n    </tr>\n    <tr>\n      <th>2058690</th>\n      <td>0e3d6683515cdf8383587fa57d8780f7</td>\n      <td>1</td>\n      <td>b04c72cbf484c939a6ae0a872d8ffd9d</td>\n      <td>2.14</td>\n      <td>12</td>\n      <td>3</td>\n      <td>3</td>\n      <td>1</td>\n      <td>sup fat cunt</td>\n      <td>0</td>\n      <td>0</td>\n      <td>0</td>\n    </tr>\n    <tr>\n      <th>2058691</th>\n      <td>0e3d6683515cdf8383587fa57d8780f7</td>\n      <td>2</td>\n      <td>b04c72cbf484c939a6ae0a872d8ffd9d</td>\n      <td>2.14</td>\n      <td>20</td>\n      <td>3</td>\n      <td>3</td>\n      <td>1</td>\n      <td>pathetic pussy bitch</td>\n      <td>0</td>\n      <td>0</td>\n      <td>0</td>\n    </tr>\n    <tr>\n      <th>2058692</th>\n      <td>0e3d6683515cdf8383587fa57d8780f7</td>\n      <td>3</td>\n      <td>b04c72cbf484c939a6ae0a872d8ffd9d</td>\n      <td>2.14</td>\n      <td>8</td>\n      <td>2</td>\n      <td>3</td>\n      <td>1</td>\n      <td>fuck you</td>\n      <td>0</td>\n      <td>0</td>\n      <td>0</td>\n    </tr>\n  </tbody>\n</table>\n<p>100908 rows × 12 columns</p>\n</div>"
     },
     "execution_count": 33,
     "metadata": {},
     "output_type": "execute_result"
    }
   ],
   "source": [
    "# examples\n",
    "pd.DataFrame(df[df['nauthor'] == 1])"
   ],
   "metadata": {
    "collapsed": false
   }
  },
  {
   "cell_type": "markdown",
   "source": [
    "### Total Conversations"
   ],
   "metadata": {
    "collapsed": false
   }
  },
  {
   "cell_type": "code",
   "execution_count": 4,
   "outputs": [
    {
     "data": {
      "text/plain": "66927"
     },
     "execution_count": 4,
     "metadata": {},
     "output_type": "execute_result"
    }
   ],
   "source": [
    "len(df_train.groupby('conv_id')) #train set total conversations"
   ],
   "metadata": {
    "collapsed": false
   }
  },
  {
   "cell_type": "code",
   "execution_count": 5,
   "outputs": [
    {
     "data": {
      "text/plain": "155128"
     },
     "execution_count": 5,
     "metadata": {},
     "output_type": "execute_result"
    }
   ],
   "source": [
    "len(df_test.groupby('conv_id')) #test set total conversations"
   ],
   "metadata": {
    "collapsed": false
   }
  },
  {
   "cell_type": "markdown",
   "metadata": {},
   "source": [
    "### number of binary conversations in train set"
   ]
  },
  {
   "cell_type": "code",
   "execution_count": 6,
   "metadata": {},
   "outputs": [
    {
     "data": {
      "text/plain": "45741"
     },
     "execution_count": 6,
     "metadata": {},
     "output_type": "execute_result"
    }
   ],
   "source": [
    "len(df_train[df_train['nauthor'] == 2].groupby('conv_id'))"
   ]
  },
  {
   "cell_type": "markdown",
   "metadata": {},
   "source": [
    "### number of binary conversations in test set"
   ]
  },
  {
   "cell_type": "code",
   "execution_count": 7,
   "metadata": {},
   "outputs": [
    {
     "data": {
      "text/plain": "105862"
     },
     "execution_count": 7,
     "metadata": {},
     "output_type": "execute_result"
    }
   ],
   "source": [
    "len(df_test[df_test['nauthor'] == 2].groupby('conv_id'))"
   ]
  },
  {
   "cell_type": "markdown",
   "metadata": {},
   "source": [
    "### Number of conversations with more than 2 authors in train set"
   ]
  },
  {
   "cell_type": "code",
   "execution_count": 7,
   "metadata": {},
   "outputs": [
    {
     "data": {
      "text/plain": "8413"
     },
     "execution_count": 7,
     "metadata": {},
     "output_type": "execute_result"
    }
   ],
   "source": [
    "len(df_train[df_train['nauthor'] > 2].groupby('conv_id'))"
   ]
  },
  {
   "cell_type": "markdown",
   "metadata": {},
   "source": [
    "### Number of conversations with more than 2 authors in test set"
   ]
  },
  {
   "cell_type": "code",
   "execution_count": 8,
   "metadata": {},
   "outputs": [
    {
     "data": {
      "text/plain": "19705"
     },
     "execution_count": 8,
     "metadata": {},
     "output_type": "execute_result"
    }
   ],
   "source": [
    "len(df_test[df_test['nauthor'] > 2].groupby('conv_id'))"
   ]
  },
  {
   "cell_type": "markdown",
   "metadata": {},
   "source": [
    "### average message number for a tagged conversation (train dataset)"
   ]
  },
  {
   "cell_type": "code",
   "execution_count": 9,
   "metadata": {},
   "outputs": [
    {
     "data": {
      "text/plain": "60.73"
     },
     "execution_count": 9,
     "metadata": {},
     "output_type": "execute_result"
    }
   ],
   "source": [
    "round(len(df_train[df_train['tagged_conv'] == 1]) / len(df_train[df_train['tagged_conv'] == 1].groupby('conv_id')), 2)\n"
   ]
  },
  {
   "cell_type": "markdown",
   "source": [
    "### average message number for a non-predatory conversation (train dataset)\n"
   ],
   "metadata": {
    "collapsed": false
   }
  },
  {
   "cell_type": "code",
   "execution_count": 10,
   "metadata": {},
   "outputs": [
    {
     "data": {
      "text/plain": "12.74"
     },
     "execution_count": 10,
     "metadata": {},
     "output_type": "execute_result"
    }
   ],
   "source": [
    "round(len(df_train[df_train['tagged_conv'] == 0]) / len(df_train[df_train['tagged_conv'] == 0].groupby('conv_id')), 2)\n"
   ]
  },
  {
   "cell_type": "markdown",
   "metadata": {},
   "source": [
    "### average message number for a tagged conversation (test dataset)"
   ]
  },
  {
   "cell_type": "code",
   "execution_count": 11,
   "metadata": {},
   "outputs": [
    {
     "data": {
      "text/plain": "90.07"
     },
     "execution_count": 11,
     "metadata": {},
     "output_type": "execute_result"
    }
   ],
   "source": [
    "round(len(df_test[df_test['tagged_conv'] == 1]) / len(df_test[df_test['tagged_conv'] == 1].groupby('conv_id')), 2)"
   ]
  },
  {
   "cell_type": "markdown",
   "source": [
    "### average message number for a non-predatory conversation (train dataset)"
   ],
   "metadata": {
    "collapsed": false
   }
  },
  {
   "cell_type": "code",
   "execution_count": 12,
   "metadata": {},
   "outputs": [
    {
     "data": {
      "text/plain": "12.86"
     },
     "execution_count": 12,
     "metadata": {},
     "output_type": "execute_result"
    }
   ],
   "source": [
    "round(len(df_test[df_test['tagged_conv'] == 0]) / len(df_test[df_test['tagged_conv'] == 0].groupby('conv_id')), 2)"
   ]
  },
  {
   "cell_type": "markdown",
   "metadata": {},
   "source": [
    "### predator in normal conversations (train dataset)"
   ]
  },
  {
   "cell_type": "code",
   "execution_count": 13,
   "metadata": {},
   "outputs": [
    {
     "data": {
      "text/plain": "1997"
     },
     "execution_count": 13,
     "metadata": {},
     "output_type": "execute_result"
    }
   ],
   "source": [
    "len(df_train[(df_train['tagged_predator'] == 1) & (df_train['tagged_conv'] == 0)].groupby('conv_id'))"
   ]
  },
  {
   "cell_type": "markdown",
   "metadata": {},
   "source": [
    "### predator in normal conversations (test dataset)"
   ]
  },
  {
   "cell_type": "code",
   "execution_count": 14,
   "metadata": {},
   "outputs": [
    {
     "data": {
      "text/plain": "2903"
     },
     "execution_count": 14,
     "metadata": {},
     "output_type": "execute_result"
    }
   ],
   "source": [
    "len(df_test[(df_test['tagged_predator'] == 1) & (df_test['tagged_conv'] == 0)].groupby('conv_id'))"
   ]
  },
  {
   "cell_type": "code",
   "execution_count": 15,
   "outputs": [
    {
     "data": {
      "text/plain": "903607"
     },
     "execution_count": 15,
     "metadata": {},
     "output_type": "execute_result"
    }
   ],
   "source": [
    "len(df_train) #number of train set messages"
   ],
   "metadata": {
    "collapsed": false
   }
  },
  {
   "cell_type": "code",
   "execution_count": 47,
   "outputs": [
    {
     "data": {
      "text/plain": "2058781"
     },
     "execution_count": 47,
     "metadata": {},
     "output_type": "execute_result"
    }
   ],
   "source": [
    "len(df_test) #number of test set messages"
   ],
   "metadata": {
    "collapsed": false
   }
  },
  {
   "cell_type": "markdown",
   "source": [
    "#### average message in conversations"
   ],
   "metadata": {
    "collapsed": false
   }
  },
  {
   "cell_type": "code",
   "execution_count": 16,
   "outputs": [
    {
     "data": {
      "text/plain": "13.5"
     },
     "execution_count": 16,
     "metadata": {},
     "output_type": "execute_result"
    }
   ],
   "source": [
    "round(len(df_train) / len(df_train.groupby('conv_id')),2)"
   ],
   "metadata": {
    "collapsed": false
   }
  },
  {
   "cell_type": "code",
   "execution_count": 17,
   "outputs": [
    {
     "data": {
      "text/plain": "13.27"
     },
     "execution_count": 17,
     "metadata": {},
     "output_type": "execute_result"
    }
   ],
   "source": [
    "round(len(df_test) / len(df_test.groupby('conv_id')),2)"
   ],
   "metadata": {
    "collapsed": false
   }
  },
  {
   "cell_type": "code",
   "execution_count": 18,
   "outputs": [
    {
     "name": "stdout",
     "output_type": "stream",
     "text": [
      "number of users in train set 97689\n",
      "number of users in test set 218702\n"
     ]
    }
   ],
   "source": [
    "print(\"number of users in train set\",len(df_train.groupby('author_id')))\n",
    "print(\"number of users in test set\",len(df_test.groupby('author_id')))"
   ],
   "metadata": {
    "collapsed": false
   }
  },
  {
   "cell_type": "code",
   "execution_count": 19,
   "outputs": [
    {
     "name": "stdout",
     "output_type": "stream",
     "text": [
      "number of conversions 66927\n",
      "number of predatory conversations in train set: 1064\n"
     ]
    }
   ],
   "source": [
    "print(\"number of conversions\",len(df_train.groupby('conv_id')))\n",
    "count_ = len(df_train[df_train['tagged_conv'] == 1].groupby('conv_id'))\n",
    "print(f'number of predatory conversations in train set: {count_}')"
   ],
   "metadata": {
    "collapsed": false
   }
  },
  {
   "cell_type": "code",
   "execution_count": 15,
   "outputs": [
    {
     "name": "stdout",
     "output_type": "stream",
     "text": [
      "number of conversions 155128\n",
      "number of predatory conversations in test set: 834\n"
     ]
    }
   ],
   "source": [
    "print(\"number of conversions\",len(df_test.groupby('conv_id')))\n",
    "count_ = len(df_test[df_test['tagged_conv'] == 1].groupby('conv_id'))\n",
    "print(f'number of predatory conversations in test set: {count_}')"
   ],
   "metadata": {
    "collapsed": false
   }
  },
  {
   "cell_type": "markdown",
   "source": [
    "## number of predators"
   ],
   "metadata": {
    "collapsed": false
   }
  },
  {
   "cell_type": "code",
   "execution_count": 20,
   "outputs": [
    {
     "name": "stdout",
     "output_type": "stream",
     "text": [
      "number of authors in train set:  97689\n",
      "number of predators in train set:  142\n"
     ]
    }
   ],
   "source": [
    "print(\"number of authors in train set: \",len(df_train.groupby('author_id')))\n",
    "count_ = len(df_train[df_train['tagged_predator'] == 1].groupby('author_id'))\n",
    "print('number of predators in train set: ', count_)"
   ],
   "metadata": {
    "collapsed": false
   }
  },
  {
   "cell_type": "code",
   "execution_count": 21,
   "outputs": [
    {
     "name": "stdout",
     "output_type": "stream",
     "text": [
      "number of authors in test set:  218702\n",
      "number of predators in test set:  254\n"
     ]
    }
   ],
   "source": [
    "print(\"number of authors in test set: \",len(df_test.groupby('author_id')))\n",
    "count_ = len(df_test[df_test['tagged_predator'] == 1].groupby('author_id'))\n",
    "print('number of predators in test set: ', count_)"
   ],
   "metadata": {
    "collapsed": false
   }
  },
  {
   "cell_type": "markdown",
   "source": [
    "## Binary predatory conversations in train set"
   ],
   "metadata": {
    "collapsed": false
   }
  },
  {
   "cell_type": "code",
   "execution_count": 22,
   "outputs": [
    {
     "name": "stdout",
     "output_type": "stream",
     "text": [
      "number of Binary conversations in train set: 45741\n",
      "number of Binary predatory conversations in train set: 101\n"
     ]
    }
   ],
   "source": [
    "print(\"number of Binary conversations in train set:\", len(df_train[df_train['nauthor'] == 2].groupby('conv_id')))\n",
    "print(\"number of Binary predatory conversations in train set:\", len(df_train[(df_train['nauthor'] == 2) & (df_train['tagged_conv'] == 1)].groupby('conv_id')))"
   ],
   "metadata": {
    "collapsed": false
   }
  },
  {
   "cell_type": "markdown",
   "source": [
    "## Binary predatory conversations in train set"
   ],
   "metadata": {
    "collapsed": false
   }
  },
  {
   "cell_type": "code",
   "execution_count": 23,
   "outputs": [
    {
     "name": "stdout",
     "output_type": "stream",
     "text": [
      "number of Binary conversations in train set: 105862\n",
      "number of Binary predatory conversations in train set: 811\n"
     ]
    }
   ],
   "source": [
    "print(\"number of Binary conversations in train set:\", len(df_test[df_test['nauthor'] == 2].groupby('conv_id')))\n",
    "print(\"number of Binary predatory conversations in train set:\", len(df_test[(df_test['nauthor'] == 2) & (df_test['tagged_conv'] == 1)].groupby('conv_id')))"
   ],
   "metadata": {
    "collapsed": false
   }
  },
  {
   "cell_type": "markdown",
   "source": [
    "## n-nary predatory conversations in train set\n"
   ],
   "metadata": {
    "collapsed": false
   }
  },
  {
   "cell_type": "code",
   "execution_count": 24,
   "outputs": [
    {
     "name": "stdout",
     "output_type": "stream",
     "text": [
      "number of Binary conversations in train set: 8413\n",
      "number of Binary predatory conversations in train set: 930\n"
     ]
    }
   ],
   "source": [
    "print(\"number of Binary conversations in train set:\", len(df_train[df_train['nauthor'] > 2].groupby('conv_id')))\n",
    "print(\"number of Binary predatory conversations in train set:\", len(df_train[(df_train['nauthor'] > 2) & (df_train['tagged_conv'] == 1)].groupby('conv_id')))"
   ],
   "metadata": {
    "collapsed": false
   }
  },
  {
   "cell_type": "markdown",
   "source": [
    "# Here is a BIG noise data"
   ],
   "metadata": {
    "collapsed": false
   }
  },
  {
   "cell_type": "code",
   "execution_count": 38,
   "outputs": [
    {
     "data": {
      "text/plain": "61062"
     },
     "execution_count": 38,
     "metadata": {},
     "output_type": "execute_result"
    }
   ],
   "source": [
    "# this numbers shows number of messages in groups that tagged predatory but there is no predator in those conversations\n",
    "len(df_train[(df_train['nauthor'] > 2) & (df_train['tagged_conv'] == 1)])\n"
   ],
   "metadata": {
    "collapsed": false
   }
  },
  {
   "cell_type": "markdown",
   "source": [
    "## number of non-binary predatory conversations"
   ],
   "metadata": {
    "collapsed": false
   }
  },
  {
   "cell_type": "code",
   "execution_count": 37,
   "outputs": [
    {
     "name": "stdout",
     "output_type": "stream",
     "text": [
      "0\n",
      "0\n"
     ]
    }
   ],
   "source": [
    "print(len(df_train[(df_train['nauthor'] > 2) & (df_train['tagged_predator'] == 1)]))\n",
    "print(len(df_test[(df_test['nauthor'] > 2) & (df_test['tagged_predator'] == 1)]))"
   ],
   "metadata": {
    "collapsed": false
   }
  },
  {
   "cell_type": "markdown",
   "source": [
    "### average ratio of conversations (messages) for predator"
   ],
   "metadata": {
    "collapsed": false
   }
  },
  {
   "cell_type": "code",
   "execution_count": 4,
   "outputs": [
    {
     "data": {
      "text/plain": "Empty DataFrame\nColumns: [conv_id, msg_line, author_id, time, msg_char_count, msg_word_count, conv_size, nauthor, text, tagged_msg, tagged_conv, tagged_predator]\nIndex: []",
      "text/html": "<div>\n<style scoped>\n    .dataframe tbody tr th:only-of-type {\n        vertical-align: middle;\n    }\n\n    .dataframe tbody tr th {\n        vertical-align: top;\n    }\n\n    .dataframe thead th {\n        text-align: right;\n    }\n</style>\n<table border=\"1\" class=\"dataframe\">\n  <thead>\n    <tr style=\"text-align: right;\">\n      <th></th>\n      <th>conv_id</th>\n      <th>msg_line</th>\n      <th>author_id</th>\n      <th>time</th>\n      <th>msg_char_count</th>\n      <th>msg_word_count</th>\n      <th>conv_size</th>\n      <th>nauthor</th>\n      <th>text</th>\n      <th>tagged_msg</th>\n      <th>tagged_conv</th>\n      <th>tagged_predator</th>\n    </tr>\n  </thead>\n  <tbody>\n  </tbody>\n</table>\n</div>"
     },
     "execution_count": 4,
     "metadata": {},
     "output_type": "execute_result"
    }
   ],
   "source": [
    "df_train[(df_train['tagged_conv']==1)&(df_train['tagged_predator'] == 1 )]"
   ],
   "metadata": {
    "collapsed": false
   }
  }
 ],
 "metadata": {
  "kernelspec": {
   "display_name": "Python 3 (ipykernel)",
   "language": "python",
   "name": "python3"
  },
  "language_info": {
   "codemirror_mode": {
    "name": "ipython",
    "version": 3
   },
   "file_extension": ".py",
   "mimetype": "text/x-python",
   "name": "python",
   "nbconvert_exporter": "python",
   "pygments_lexer": "ipython3",
   "version": "3.9.12"
  }
 },
 "nbformat": 4,
 "nbformat_minor": 1
}
